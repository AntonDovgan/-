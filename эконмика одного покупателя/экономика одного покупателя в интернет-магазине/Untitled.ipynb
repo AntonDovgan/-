{
 "cells": [
  {
   "cell_type": "markdown",
   "id": "be8169a1",
   "metadata": {},
   "source": [
    "# Описание проекта\n",
    "Вы работаете в интернет-магазине. Ваша задача проанализировать юнит-экономику и помочь маркетологам разобраться — снижать или увеличивать расходы на маркетинг. У вас есть данные о продажах и расходах. Вы также знаете, что маржинальность магазина равна 40%.\n",
    "\n",
    "## Задача\n",
    "1. Посчитать количество уникальных покупателей в каждой когорте;\n",
    "2. Создать когортный отчёт, добавить в него столбец с возрастом каждой когорты, суммарной валовой прибылью когорты в каждый месяц, посчитайте LTV;\n",
    "3. Посчитать CAC и ROMI;\n",
    "4. Посчитать LTV средней когорты."
   ]
  },
  {
   "cell_type": "code",
   "execution_count": 8,
   "id": "57b4a22b",
   "metadata": {},
   "outputs": [],
   "source": [
    "import pandas as pd\n",
    "import numpy as np"
   ]
  },
  {
   "cell_type": "code",
   "execution_count": 10,
   "id": "ea8100d3",
   "metadata": {},
   "outputs": [
    {
     "name": "stdout",
     "output_type": "stream",
     "text": [
      "  first_order_month  n_buyers\n",
      "0        2019-01-01        46\n",
      "1        2019-02-01       122\n",
      "2        2019-03-01       182\n",
      "3        2019-04-01       173\n",
      "4        2019-05-01       182\n"
     ]
    }
   ],
   "source": [
    "orders = pd.read_csv('ltv_orders_2.csv')\n",
    "costs = pd.read_csv('ltv_costs_2.csv')\n",
    "\n",
    "orders['order_date'] = pd.to_datetime(orders['order_date'])\n",
    "costs['date'] = pd.to_datetime(costs['date'])\n",
    "\n",
    "orders['order_month'] = orders['order_date'].astype('datetime64[M]')\n",
    "costs['month'] = costs['date'].astype('datetime64[M]')\n",
    "\n",
    "\n",
    "first_orders = orders.groupby('uid').agg({'order_month': 'min'}).reset_index()\n",
    "first_orders.columns = ['uid', 'first_order_month']\n",
    "\n",
    "cohort_sizes = (\n",
    "    first_orders.groupby('first_order_month')\n",
    "    .agg({'uid': 'nunique'})\n",
    "    .reset_index()\n",
    ")\n",
    "cohort_sizes.columns = ['first_order_month', 'n_buyers']\n",
    "print(cohort_sizes.head(5))\n",
    "\n"
   ]
  },
  {
   "cell_type": "markdown",
   "id": "d7d4981c",
   "metadata": {},
   "source": [
    "**Вывод:**    \n",
    "да, в январе не слишком много новых покупателей. Видимо, потратили все деньги на подарки ещё в конце декабря."
   ]
  },
  {
   "cell_type": "code",
   "execution_count": 11,
   "id": "f1f0a21d",
   "metadata": {},
   "outputs": [
    {
     "data": {
      "text/html": [
       "<div>\n",
       "<style scoped>\n",
       "    .dataframe tbody tr th:only-of-type {\n",
       "        vertical-align: middle;\n",
       "    }\n",
       "\n",
       "    .dataframe tbody tr th {\n",
       "        vertical-align: top;\n",
       "    }\n",
       "\n",
       "    .dataframe thead th {\n",
       "        text-align: right;\n",
       "    }\n",
       "</style>\n",
       "<table border=\"1\" class=\"dataframe\">\n",
       "  <thead>\n",
       "    <tr style=\"text-align: right;\">\n",
       "      <th>age</th>\n",
       "      <th>0</th>\n",
       "      <th>1</th>\n",
       "      <th>2</th>\n",
       "      <th>3</th>\n",
       "      <th>4</th>\n",
       "      <th>5</th>\n",
       "      <th>6</th>\n",
       "    </tr>\n",
       "    <tr>\n",
       "      <th>first_order_month</th>\n",
       "      <th></th>\n",
       "      <th></th>\n",
       "      <th></th>\n",
       "      <th></th>\n",
       "      <th></th>\n",
       "      <th></th>\n",
       "      <th></th>\n",
       "    </tr>\n",
       "  </thead>\n",
       "  <tbody>\n",
       "    <tr>\n",
       "      <td>2019-01-01</td>\n",
       "      <td>536.0</td>\n",
       "      <td>487.0</td>\n",
       "      <td>567.0</td>\n",
       "      <td>484.0</td>\n",
       "      <td>325.0</td>\n",
       "      <td>70.0</td>\n",
       "      <td>5.0</td>\n",
       "    </tr>\n",
       "    <tr>\n",
       "      <td>2019-02-01</td>\n",
       "      <td>551.0</td>\n",
       "      <td>484.0</td>\n",
       "      <td>523.0</td>\n",
       "      <td>442.0</td>\n",
       "      <td>258.0</td>\n",
       "      <td>88.0</td>\n",
       "      <td>17.0</td>\n",
       "    </tr>\n",
       "    <tr>\n",
       "      <td>2019-03-01</td>\n",
       "      <td>625.0</td>\n",
       "      <td>493.0</td>\n",
       "      <td>549.0</td>\n",
       "      <td>425.0</td>\n",
       "      <td>247.0</td>\n",
       "      <td>89.0</td>\n",
       "      <td>4.0</td>\n",
       "    </tr>\n",
       "    <tr>\n",
       "      <td>2019-04-01</td>\n",
       "      <td>572.0</td>\n",
       "      <td>527.0</td>\n",
       "      <td>456.0</td>\n",
       "      <td>418.0</td>\n",
       "      <td>199.0</td>\n",
       "      <td>20.0</td>\n",
       "      <td>NaN</td>\n",
       "    </tr>\n",
       "    <tr>\n",
       "      <td>2019-05-01</td>\n",
       "      <td>538.0</td>\n",
       "      <td>507.0</td>\n",
       "      <td>450.0</td>\n",
       "      <td>260.0</td>\n",
       "      <td>31.0</td>\n",
       "      <td>NaN</td>\n",
       "      <td>NaN</td>\n",
       "    </tr>\n",
       "    <tr>\n",
       "      <td>2019-06-01</td>\n",
       "      <td>622.0</td>\n",
       "      <td>496.0</td>\n",
       "      <td>370.0</td>\n",
       "      <td>53.0</td>\n",
       "      <td>NaN</td>\n",
       "      <td>NaN</td>\n",
       "      <td>NaN</td>\n",
       "    </tr>\n",
       "    <tr>\n",
       "      <td>2019-07-01</td>\n",
       "      <td>535.0</td>\n",
       "      <td>514.0</td>\n",
       "      <td>121.0</td>\n",
       "      <td>NaN</td>\n",
       "      <td>NaN</td>\n",
       "      <td>NaN</td>\n",
       "      <td>NaN</td>\n",
       "    </tr>\n",
       "    <tr>\n",
       "      <td>2019-08-01</td>\n",
       "      <td>580.0</td>\n",
       "      <td>116.0</td>\n",
       "      <td>NaN</td>\n",
       "      <td>NaN</td>\n",
       "      <td>NaN</td>\n",
       "      <td>NaN</td>\n",
       "      <td>NaN</td>\n",
       "    </tr>\n",
       "    <tr>\n",
       "      <td>2019-09-01</td>\n",
       "      <td>381.0</td>\n",
       "      <td>NaN</td>\n",
       "      <td>NaN</td>\n",
       "      <td>NaN</td>\n",
       "      <td>NaN</td>\n",
       "      <td>NaN</td>\n",
       "      <td>NaN</td>\n",
       "    </tr>\n",
       "  </tbody>\n",
       "</table>\n",
       "</div>"
      ],
      "text/plain": [
       "age                    0      1      2      3      4     5     6\n",
       "first_order_month                                               \n",
       "2019-01-01         536.0  487.0  567.0  484.0  325.0  70.0   5.0\n",
       "2019-02-01         551.0  484.0  523.0  442.0  258.0  88.0  17.0\n",
       "2019-03-01         625.0  493.0  549.0  425.0  247.0  89.0   4.0\n",
       "2019-04-01         572.0  527.0  456.0  418.0  199.0  20.0   NaN\n",
       "2019-05-01         538.0  507.0  450.0  260.0   31.0   NaN   NaN\n",
       "2019-06-01         622.0  496.0  370.0   53.0    NaN   NaN   NaN\n",
       "2019-07-01         535.0  514.0  121.0    NaN    NaN   NaN   NaN\n",
       "2019-08-01         580.0  116.0    NaN    NaN    NaN   NaN   NaN\n",
       "2019-09-01         381.0    NaN    NaN    NaN    NaN   NaN   NaN"
      ]
     },
     "execution_count": 11,
     "metadata": {},
     "output_type": "execute_result"
    }
   ],
   "source": [
    "margin_rate = 0.4\n",
    "\n",
    "orders_first_month = pd.merge(orders, first_orders, on='uid')\n",
    "cohorts = (\n",
    "    orders_first_month.groupby(['first_order_month', 'order_month'])\n",
    "    .agg({'revenue': 'sum'})\n",
    "    .reset_index()\n",
    ")\n",
    "report = pd.merge(cohort_sizes, cohorts, on='first_order_month')\n",
    "\n",
    "report['gp'] = report['revenue'] * margin_rate\n",
    "report['age'] = (\n",
    "    report['order_month'] - report['first_order_month']\n",
    ") / np.timedelta64(1, 'M')\n",
    "report['age'] = report['age'].round().astype('int')\n",
    "\n",
    "report['ltv'] = report['gp'] / report['n_buyers']\n",
    "\n",
    "result = report.pivot_table(\n",
    "    index='first_order_month', columns='age', values='ltv', aggfunc='mean'\n",
    ").round()\n",
    "result"
   ]
  },
  {
   "cell_type": "markdown",
   "id": "4ad95011",
   "metadata": {},
   "source": [
    "**Вывод:**     \n",
    "получили когортный отчёт и посчитали LTV. Осталось добавить данные о расходах и найти ROMI."
   ]
  },
  {
   "cell_type": "code",
   "execution_count": 14,
   "id": "48636e20",
   "metadata": {},
   "outputs": [
    {
     "name": "stdout",
     "output_type": "stream",
     "text": [
      "age                   0     1     2     3     4     5     6\n",
      "first_order_month                                          \n",
      "2019-01-01         0.19  0.36  0.56  0.73  0.84  0.86  0.87\n",
      "2019-02-01         0.18  0.35  0.52  0.67  0.75  0.78  0.79\n",
      "2019-03-01         0.20  0.35  0.53  0.66  0.74  0.77  0.77\n",
      "2019-04-01         0.20  0.38  0.54  0.69  0.76  0.76      \n",
      "2019-05-01         0.18  0.35  0.51   0.6  0.61            \n",
      "2019-06-01         0.21  0.37   0.5  0.51                  \n",
      "2019-07-01         0.18  0.35  0.39                        \n",
      "2019-08-01         0.20  0.23                              \n",
      "2019-09-01         0.12                                    \n"
     ]
    }
   ],
   "source": [
    "monthly_costs = costs.groupby('month').sum()\n",
    "report_new = pd.merge(\n",
    "    report, monthly_costs, left_on='first_order_month', right_on='month'\n",
    ")\n",
    "report_new['cac'] = report_new['costs'] / report_new['n_buyers']\n",
    "\n",
    "report_new['romi'] = report_new['ltv'] / report_new['cac']\n",
    "output = report_new.pivot_table(\n",
    "    index='first_order_month', columns='age', values='romi', aggfunc='mean'\n",
    ")\n",
    "\n",
    "final_result=report_new.pivot_table(\n",
    "    index='first_order_month',\n",
    "    columns='age',\n",
    "    values='ltv',\n",
    "    aggfunc='mean')\n",
    "print(output.cumsum(axis=1).round(2).fillna(''))"
   ]
  },
  {
   "cell_type": "markdown",
   "id": "5975a1b3",
   "metadata": {},
   "source": [
    "**Вывод:**     \n",
    "посчитали ROMI магазина. К сожалению, судя по по отчёту, до сих пор ни одна когорта не окупилась. Кажется, маркетологам надо что-то менять."
   ]
  },
  {
   "cell_type": "code",
   "execution_count": 15,
   "id": "865d6af8",
   "metadata": {},
   "outputs": [
    {
     "name": "stdout",
     "output_type": "stream",
     "text": [
      "Средний LTV за 6 месяцев после первой покупки: 2358.917911699909\n"
     ]
    }
   ],
   "source": [
    "m6_cum_ltv = final_result.cumsum(axis=1).mean(axis=0)[5]\n",
    "\n",
    "print('Средний LTV за 6 месяцев после первой покупки:', m6_cum_ltv)"
   ]
  },
  {
   "cell_type": "markdown",
   "id": "20972e2c",
   "metadata": {},
   "source": [
    "**Вывод:**    \n",
    "чтобы вложения в маркетинг окупались, привлечение одного покупателя не должно превышать  2358.9 рублей. Полезная информация, маркетологи вам очень благодарны!"
   ]
  },
  {
   "cell_type": "code",
   "execution_count": null,
   "id": "cab2c054",
   "metadata": {},
   "outputs": [],
   "source": []
  }
 ],
 "metadata": {
  "kernelspec": {
   "display_name": "Python 3",
   "language": "python",
   "name": "python3"
  },
  "language_info": {
   "codemirror_mode": {
    "name": "ipython",
    "version": 3
   },
   "file_extension": ".py",
   "mimetype": "text/x-python",
   "name": "python",
   "nbconvert_exporter": "python",
   "pygments_lexer": "ipython3",
   "version": "3.7.10"
  },
  "toc": {
   "base_numbering": 1,
   "nav_menu": {},
   "number_sections": true,
   "sideBar": true,
   "skip_h1_title": false,
   "title_cell": "Table of Contents",
   "title_sidebar": "Contents",
   "toc_cell": false,
   "toc_position": {},
   "toc_section_display": true,
   "toc_window_display": false
  }
 },
 "nbformat": 4,
 "nbformat_minor": 5
}
