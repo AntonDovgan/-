{
 "cells": [
  {
   "cell_type": "markdown",
   "id": "ad9b0b4b",
   "metadata": {},
   "source": [
    "Вы работаете в интернет-магазине. Ваша задача проанализировать юнит-экономику и помочь маркетологам разобраться — снижать или увеличивать расходы на маркетинг. У вас есть данные о продажах и расходах. Вы также знаете, что маржинальность магазина равна 40%."
   ]
  },
  {
   "cell_type": "code",
   "execution_count": 8,
   "id": "a2f78e69",
   "metadata": {},
   "outputs": [],
   "source": [
    "import pandas as pd\n",
    "import numpy as np"
   ]
  },
  {
   "cell_type": "code",
   "execution_count": 9,
   "id": "3d307bb1",
   "metadata": {},
   "outputs": [
    {
     "name": "stdout",
     "output_type": "stream",
     "text": [
      "Средний LTV за 6 месяцев после первой покупки: 2358.917911699909\n"
     ]
    }
   ],
   "source": [
    "orders = pd.read_csv('ltv_orders_2.csv')\n",
    "costs = pd.read_csv('ltv_costs_2.csv')\n",
    "\n",
    "orders['order_date'] = pd.to_datetime(orders['order_date'])\n",
    "costs['date'] = pd.to_datetime(costs['date'])\n",
    "\n",
    "orders['order_month'] = orders['order_date'].astype('datetime64[M]')\n",
    "costs['month'] = costs['date'].astype('datetime64[M]')\n",
    "\n",
    "\n",
    "first_orders = orders.groupby('uid').agg({'order_month': 'min'}).reset_index()\n",
    "first_orders.columns = ['uid', 'first_order_month']\n",
    "\n",
    "cohort_sizes = (\n",
    "    first_orders.groupby('first_order_month')\n",
    "    .agg({'uid': 'nunique'})\n",
    "    .reset_index()\n",
    ")\n",
    "cohort_sizes.columns = ['first_order_month', 'n_buyers']\n",
    "cohort_sizes.head()\n",
    "\n",
    "margin_rate = 0.4\n",
    "\n",
    "orders_first_month = pd.merge(orders, first_orders, on='uid')\n",
    "cohorts = (\n",
    "    orders_first_month.groupby(['first_order_month', 'order_month'])\n",
    "    .agg({'revenue': 'sum'})\n",
    "    .reset_index()\n",
    ")\n",
    "report = pd.merge(cohort_sizes, cohorts, on='first_order_month')\n",
    "\n",
    "report['gp'] = report['revenue'] * margin_rate\n",
    "report['age'] = (\n",
    "    report['order_month'] - report['first_order_month']\n",
    ") / np.timedelta64(1, 'M')\n",
    "report['age'] = report['age'].round().astype('int')\n",
    "\n",
    "report['ltv'] = report['gp'] / report['n_buyers']\n",
    "\n",
    "result = report.pivot_table(\n",
    "    index='first_order_month', columns='age', values='ltv', aggfunc='mean'\n",
    ").round()\n",
    "\n",
    "monthly_costs = costs.groupby('month').sum()\n",
    "report_new = pd.merge(\n",
    "    report, monthly_costs, left_on='first_order_month', right_on='month'\n",
    ")\n",
    "report_new['cac'] = report_new['costs'] / report_new['n_buyers']\n",
    "\n",
    "report_new['romi'] = report_new['ltv'] / report_new['cac']\n",
    "output = report_new.pivot_table(\n",
    "    index='first_order_month', columns='age', values='romi', aggfunc='mean'\n",
    ")\n",
    "\n",
    "final_result=report_new.pivot_table(\n",
    "    index='first_order_month',\n",
    "    columns='age',\n",
    "    values='ltv',\n",
    "    aggfunc='mean')\n",
    "\n",
    "m6_cum_ltv = final_result.cumsum(axis=1).mean(axis=0)[5]\n",
    "\n",
    "print('Средний LTV за 6 месяцев после первой покупки:', m6_cum_ltv)"
   ]
  },
  {
   "cell_type": "markdown",
   "id": "f13076e2",
   "metadata": {},
   "source": [
    "**Вывод**\n",
    "Чтобы вложения в маркетинг окупались, привлечение одного покупателя не должно превышать  2358.9 рублей. Полезная информация, маркетологи вам очень благодарны!"
   ]
  },
  {
   "cell_type": "code",
   "execution_count": null,
   "id": "f4f3f09d",
   "metadata": {},
   "outputs": [],
   "source": []
  }
 ],
 "metadata": {
  "kernelspec": {
   "display_name": "Python 3",
   "language": "python",
   "name": "python3"
  },
  "language_info": {
   "codemirror_mode": {
    "name": "ipython",
    "version": 3
   },
   "file_extension": ".py",
   "mimetype": "text/x-python",
   "name": "python",
   "nbconvert_exporter": "python",
   "pygments_lexer": "ipython3",
   "version": "3.7.10"
  },
  "toc": {
   "base_numbering": 1,
   "nav_menu": {},
   "number_sections": true,
   "sideBar": true,
   "skip_h1_title": false,
   "title_cell": "Table of Contents",
   "title_sidebar": "Contents",
   "toc_cell": false,
   "toc_position": {},
   "toc_section_display": true,
   "toc_window_display": false
  }
 },
 "nbformat": 4,
 "nbformat_minor": 5
}
