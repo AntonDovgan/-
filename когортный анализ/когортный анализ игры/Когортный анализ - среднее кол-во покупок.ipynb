{
 "cells": [
  {
   "cell_type": "markdown",
   "id": "19ca0803",
   "metadata": {},
   "source": [
    "# Когортный анализ - среднее кол-во покупок"
   ]
  },
  {
   "cell_type": "markdown",
   "id": "245af6dd",
   "metadata": {},
   "source": [
    "## Описание"
   ]
  },
  {
   "cell_type": "markdown",
   "id": "8ad1e208",
   "metadata": {},
   "source": [
    "В датасете game_purchases.csv записаны данные о покупках, совершённых внутри мобильной стратегической игры «Крэш оф Крэнс». В столбцах таблицы:   \n",
    "\n",
    "`purchase_datetime` — дата и время покупки;   \n",
    "`player_id` — уникальный идентификатор игрока;   \n",
    "`item` — название купленной игровой единицы: life (англ. «жизнь»), mana (англ. «магическая сила», в играх — «топливо» для заклинаний), armour (англ. «броня»);   \n",
    "`price` — цена во внутриигровой валюте;   \n",
    "`purchase_id` — уникальный идентификатор покупки.\n",
    "\n",
    "## Задача\n",
    "Построить когорты и для каждой из них найти среднее количесво покупок."
   ]
  },
  {
   "cell_type": "markdown",
   "id": "b0845134",
   "metadata": {},
   "source": [
    "## Импорт библиотек"
   ]
  },
  {
   "cell_type": "code",
   "execution_count": 1,
   "id": "c3137799",
   "metadata": {},
   "outputs": [],
   "source": [
    "import pandas as pd\n",
    "import numpy as np\n",
    "import seaborn as sns\n",
    "from matplotlib import pyplot as plt"
   ]
  },
  {
   "cell_type": "code",
   "execution_count": 27,
   "id": "e866f28e",
   "metadata": {},
   "outputs": [
    {
     "data": {
      "text/html": [
       "<div>\n",
       "<style scoped>\n",
       "    .dataframe tbody tr th:only-of-type {\n",
       "        vertical-align: middle;\n",
       "    }\n",
       "\n",
       "    .dataframe tbody tr th {\n",
       "        vertical-align: top;\n",
       "    }\n",
       "\n",
       "    .dataframe thead th {\n",
       "        text-align: right;\n",
       "    }\n",
       "</style>\n",
       "<table border=\"1\" class=\"dataframe\">\n",
       "  <thead>\n",
       "    <tr style=\"text-align: right;\">\n",
       "      <th></th>\n",
       "      <th>purchase_datetime</th>\n",
       "      <th>player_id</th>\n",
       "      <th>item</th>\n",
       "      <th>price</th>\n",
       "      <th>purchase_id</th>\n",
       "    </tr>\n",
       "  </thead>\n",
       "  <tbody>\n",
       "    <tr>\n",
       "      <th>0</th>\n",
       "      <td>2019-01-01 00:15:54</td>\n",
       "      <td>2434d4ef-7949-4311-a9e6-9263e2ea2b7c</td>\n",
       "      <td>armour</td>\n",
       "      <td>0.1</td>\n",
       "      <td>10423</td>\n",
       "    </tr>\n",
       "    <tr>\n",
       "      <th>1</th>\n",
       "      <td>2019-01-01 00:16:56</td>\n",
       "      <td>1ecd854d-f707-44a2-b174-0c0039668650</td>\n",
       "      <td>life</td>\n",
       "      <td>0.3</td>\n",
       "      <td>10424</td>\n",
       "    </tr>\n",
       "    <tr>\n",
       "      <th>2</th>\n",
       "      <td>2019-01-01 00:56:17</td>\n",
       "      <td>1156b1a0-732b-4732-ab41-79f77cd0e719</td>\n",
       "      <td>life</td>\n",
       "      <td>0.3</td>\n",
       "      <td>10425</td>\n",
       "    </tr>\n",
       "    <tr>\n",
       "      <th>3</th>\n",
       "      <td>2019-01-01 00:58:17</td>\n",
       "      <td>1f7b30f3-26ac-45bd-82b4-30fad1d1398d</td>\n",
       "      <td>armour</td>\n",
       "      <td>0.1</td>\n",
       "      <td>10426</td>\n",
       "    </tr>\n",
       "    <tr>\n",
       "      <th>4</th>\n",
       "      <td>2019-01-01 01:15:42</td>\n",
       "      <td>4697efd3-15b2-4f40-84fb-7e5c65e390c9</td>\n",
       "      <td>armour</td>\n",
       "      <td>0.1</td>\n",
       "      <td>10427</td>\n",
       "    </tr>\n",
       "  </tbody>\n",
       "</table>\n",
       "</div>"
      ],
      "text/plain": [
       "     purchase_datetime                             player_id    item  price  \\\n",
       "0  2019-01-01 00:15:54  2434d4ef-7949-4311-a9e6-9263e2ea2b7c  armour    0.1   \n",
       "1  2019-01-01 00:16:56  1ecd854d-f707-44a2-b174-0c0039668650    life    0.3   \n",
       "2  2019-01-01 00:56:17  1156b1a0-732b-4732-ab41-79f77cd0e719    life    0.3   \n",
       "3  2019-01-01 00:58:17  1f7b30f3-26ac-45bd-82b4-30fad1d1398d  armour    0.1   \n",
       "4  2019-01-01 01:15:42  4697efd3-15b2-4f40-84fb-7e5c65e390c9  armour    0.1   \n",
       "\n",
       "   purchase_id  \n",
       "0        10423  \n",
       "1        10424  \n",
       "2        10425  \n",
       "3        10426  \n",
       "4        10427  "
      ]
     },
     "execution_count": 27,
     "metadata": {},
     "output_type": "execute_result"
    }
   ],
   "source": [
    "purchases = pd.read_csv('game_purchases.csv')\n",
    "purchases.head(5) # выводим первые 5 строк"
   ]
  },
  {
   "cell_type": "code",
   "execution_count": 31,
   "id": "52d32dbb",
   "metadata": {},
   "outputs": [
    {
     "name": "stdout",
     "output_type": "stream",
     "text": [
      "Размер таблицы: (16666, 5)\n"
     ]
    }
   ],
   "source": [
    "print('Размер таблицы:',purchases.shape)"
   ]
  },
  {
   "cell_type": "code",
   "execution_count": 22,
   "id": "5c8be869",
   "metadata": {},
   "outputs": [
    {
     "name": "stdout",
     "output_type": "stream",
     "text": [
      "first_purchase_month\n",
      "2019-01-01    2432.2\n",
      "2019-02-01     602.5\n",
      "2019-03-01     292.7\n",
      "2019-04-01     192.8\n",
      "2019-05-01     108.5\n",
      "2019-06-01      72.8\n",
      "2019-07-01      46.7\n",
      "Name: price, dtype: float64\n"
     ]
    }
   ],
   "source": [
    "# Формируем когорты по месяцам покупки\n",
    "first_purchase_dates = purchases.groupby('player_id')['purchase_datetime'].min()\n",
    "first_purchase_dates.name =  'first_purchase_datetime'\n",
    "\n",
    "purchases = purchases.join(first_purchase_dates, on = 'player_id')\n",
    "\n",
    "purchases['purchase_month'] = purchases['purchase_datetime'].astype('datetime64[M]')\n",
    "purchases['first_purchase_month'] = purchases['first_purchase_datetime'].astype('datetime64[M]')\n",
    "\n",
    "cohort_stats = purchases.groupby('first_purchase_month')['price'].sum()\n",
    "\n",
    "print(cohort_stats)"
   ]
  },
  {
   "cell_type": "markdown",
   "id": "38c40b59",
   "metadata": {},
   "source": [
    "**Вывод:** С течением времени пользователи тратят всё меньше игровой валюты. Это требует дополнительного анализа."
   ]
  },
  {
   "cell_type": "markdown",
   "id": "bd265732",
   "metadata": {},
   "source": [
    "Сформируем сводную таблицу, в которой отразим изменение среднего количества покупок на игрока по когортам в различных месяцах."
   ]
  },
  {
   "cell_type": "code",
   "execution_count": 17,
   "id": "2d1f3541",
   "metadata": {},
   "outputs": [
    {
     "name": "stderr",
     "output_type": "stream",
     "text": [
      "<ipython-input-17-89ea5403049a>:18: FutureWarning: Indexing with multiple keys (implicitly converted to a tuple of keys) will be deprecated, use a list instead.\n",
      "  purchases_grouped_by_cohorts = purchases.groupby(['first_purchase_month', 'purchase_month'])['purchase_id','player_id'].nunique()\n"
     ]
    },
    {
     "data": {
      "text/html": [
       "<div>\n",
       "<style scoped>\n",
       "    .dataframe tbody tr th:only-of-type {\n",
       "        vertical-align: middle;\n",
       "    }\n",
       "\n",
       "    .dataframe tbody tr th {\n",
       "        vertical-align: top;\n",
       "    }\n",
       "\n",
       "    .dataframe thead th {\n",
       "        text-align: right;\n",
       "    }\n",
       "</style>\n",
       "<table border=\"1\" class=\"dataframe\">\n",
       "  <thead>\n",
       "    <tr style=\"text-align: right;\">\n",
       "      <th>purchase_month</th>\n",
       "      <th>2019-01-01</th>\n",
       "      <th>2019-02-01</th>\n",
       "      <th>2019-03-01</th>\n",
       "      <th>2019-04-01</th>\n",
       "      <th>2019-05-01</th>\n",
       "      <th>2019-06-01</th>\n",
       "      <th>2019-07-01</th>\n",
       "    </tr>\n",
       "    <tr>\n",
       "      <th>first_purchase_month</th>\n",
       "      <th></th>\n",
       "      <th></th>\n",
       "      <th></th>\n",
       "      <th></th>\n",
       "      <th></th>\n",
       "      <th></th>\n",
       "      <th></th>\n",
       "    </tr>\n",
       "  </thead>\n",
       "  <tbody>\n",
       "    <tr>\n",
       "      <th>2019-01-01</th>\n",
       "      <td>1.671333</td>\n",
       "      <td>2.045802</td>\n",
       "      <td>2.067055</td>\n",
       "      <td>2.177979</td>\n",
       "      <td>2.137462</td>\n",
       "      <td>2.000000</td>\n",
       "      <td>2.025602</td>\n",
       "    </tr>\n",
       "    <tr>\n",
       "      <th>2019-02-01</th>\n",
       "      <td>NaN</td>\n",
       "      <td>1.256881</td>\n",
       "      <td>1.456522</td>\n",
       "      <td>1.359833</td>\n",
       "      <td>1.361538</td>\n",
       "      <td>1.362832</td>\n",
       "      <td>1.384921</td>\n",
       "    </tr>\n",
       "    <tr>\n",
       "      <th>2019-03-01</th>\n",
       "      <td>NaN</td>\n",
       "      <td>NaN</td>\n",
       "      <td>1.175601</td>\n",
       "      <td>1.246032</td>\n",
       "      <td>1.297710</td>\n",
       "      <td>1.330769</td>\n",
       "      <td>1.288136</td>\n",
       "    </tr>\n",
       "    <tr>\n",
       "      <th>2019-04-01</th>\n",
       "      <td>NaN</td>\n",
       "      <td>NaN</td>\n",
       "      <td>NaN</td>\n",
       "      <td>1.149425</td>\n",
       "      <td>1.310680</td>\n",
       "      <td>1.219780</td>\n",
       "      <td>1.320388</td>\n",
       "    </tr>\n",
       "    <tr>\n",
       "      <th>2019-05-01</th>\n",
       "      <td>NaN</td>\n",
       "      <td>NaN</td>\n",
       "      <td>NaN</td>\n",
       "      <td>NaN</td>\n",
       "      <td>1.085366</td>\n",
       "      <td>1.145455</td>\n",
       "      <td>1.166667</td>\n",
       "    </tr>\n",
       "    <tr>\n",
       "      <th>2019-06-01</th>\n",
       "      <td>NaN</td>\n",
       "      <td>NaN</td>\n",
       "      <td>NaN</td>\n",
       "      <td>NaN</td>\n",
       "      <td>NaN</td>\n",
       "      <td>1.116183</td>\n",
       "      <td>1.170732</td>\n",
       "    </tr>\n",
       "    <tr>\n",
       "      <th>2019-07-01</th>\n",
       "      <td>NaN</td>\n",
       "      <td>NaN</td>\n",
       "      <td>NaN</td>\n",
       "      <td>NaN</td>\n",
       "      <td>NaN</td>\n",
       "      <td>NaN</td>\n",
       "      <td>1.072917</td>\n",
       "    </tr>\n",
       "  </tbody>\n",
       "</table>\n",
       "</div>"
      ],
      "text/plain": [
       "purchase_month        2019-01-01  2019-02-01  2019-03-01  2019-04-01  \\\n",
       "first_purchase_month                                                   \n",
       "2019-01-01              1.671333    2.045802    2.067055    2.177979   \n",
       "2019-02-01                   NaN    1.256881    1.456522    1.359833   \n",
       "2019-03-01                   NaN         NaN    1.175601    1.246032   \n",
       "2019-04-01                   NaN         NaN         NaN    1.149425   \n",
       "2019-05-01                   NaN         NaN         NaN         NaN   \n",
       "2019-06-01                   NaN         NaN         NaN         NaN   \n",
       "2019-07-01                   NaN         NaN         NaN         NaN   \n",
       "\n",
       "purchase_month        2019-05-01  2019-06-01  2019-07-01  \n",
       "first_purchase_month                                      \n",
       "2019-01-01              2.137462    2.000000    2.025602  \n",
       "2019-02-01              1.361538    1.362832    1.384921  \n",
       "2019-03-01              1.297710    1.330769    1.288136  \n",
       "2019-04-01              1.310680    1.219780    1.320388  \n",
       "2019-05-01              1.085366    1.145455    1.166667  \n",
       "2019-06-01                   NaN    1.116183    1.170732  \n",
       "2019-07-01                   NaN         NaN    1.072917  "
      ]
     },
     "execution_count": 17,
     "metadata": {},
     "output_type": "execute_result"
    }
   ],
   "source": [
    "# найдём первую дату покупки\n",
    "purchases = pd.read_csv('game_purchases.csv')\n",
    "first_purchase_dates = purchases.groupby('player_id')[\n",
    "    'purchase_datetime'\n",
    "].min()\n",
    "\n",
    "# укажем размерность временной метки и приведём данные к нужному формату\n",
    "first_purchase_dates.name = 'first_purchase_datetime'\n",
    "purchases = purchases.join(first_purchase_dates, on='player_id')\n",
    "purchases['purchase_month'] = purchases['purchase_datetime'].astype(\n",
    "    'datetime64[M]'\n",
    ")\n",
    "\n",
    "purchases['first_purchase_month'] = purchases[\n",
    "    'first_purchase_datetime'\n",
    "].astype('datetime64[M]')\n",
    "\n",
    "purchases_grouped_by_cohorts = purchases.groupby(['first_purchase_month', 'purchase_month'])['purchase_id','player_id'].nunique()\n",
    "purchases_grouped_by_cohorts['purchases_per_player'] = purchases_grouped_by_cohorts['purchase_id'] / purchases_grouped_by_cohorts['player_id']\n",
    "mean_purchases_pivot  = purchases_grouped_by_cohorts.pivot_table(index = 'first_purchase_month', columns='purchase_month', values = 'purchases_per_player', aggfunc='sum')\n",
    "mean_purchases_pivot.head(10)"
   ]
  },
  {
   "cell_type": "markdown",
   "id": "43ad346a",
   "metadata": {},
   "source": [
    "**Вывод:** видно как именяется среднее количесво внутриигровых покупок в зависимости от месяца покупки и когорты. Например: пользователи майской когорты покупают гораздо хуже январской."
   ]
  },
  {
   "cell_type": "code",
   "execution_count": 15,
   "id": "8db61ae9",
   "metadata": {},
   "outputs": [],
   "source": [
    "purchases_grouped_by_cohorts = purchases_grouped_by_cohorts.reset_index()\n",
    "purchases_grouped_by_cohorts['cohort_lifetime'] = purchases_grouped_by_cohorts['purchase_month'] - purchases_grouped_by_cohorts['first_purchase_month']\n",
    "purchases_grouped_by_cohorts['cohort_lifetime'] = (purchases_grouped_by_cohorts['cohort_lifetime']/np.timedelta64(1,'M')).round()\n",
    "purchases_grouped_by_cohorts['cohort_lifetime'] = purchases_grouped_by_cohorts['cohort_lifetime'].round().astype('int')"
   ]
  },
  {
   "cell_type": "markdown",
   "id": "001ffbee",
   "metadata": {},
   "source": [
    "**Вывод:** Теперь в таблице для каждого месяца есть,  — порядковый номер месяца относительно старта когорты."
   ]
  },
  {
   "cell_type": "code",
   "execution_count": 16,
   "id": "8e24d621",
   "metadata": {},
   "outputs": [
    {
     "data": {
      "text/html": [
       "<div>\n",
       "<style scoped>\n",
       "    .dataframe tbody tr th:only-of-type {\n",
       "        vertical-align: middle;\n",
       "    }\n",
       "\n",
       "    .dataframe tbody tr th {\n",
       "        vertical-align: top;\n",
       "    }\n",
       "\n",
       "    .dataframe thead th {\n",
       "        text-align: right;\n",
       "    }\n",
       "</style>\n",
       "<table border=\"1\" class=\"dataframe\">\n",
       "  <thead>\n",
       "    <tr style=\"text-align: right;\">\n",
       "      <th>cohort_lifetime</th>\n",
       "      <th>0</th>\n",
       "      <th>1</th>\n",
       "      <th>2</th>\n",
       "      <th>3</th>\n",
       "      <th>4</th>\n",
       "      <th>5</th>\n",
       "      <th>6</th>\n",
       "    </tr>\n",
       "    <tr>\n",
       "      <th>first_purchase_month</th>\n",
       "      <th></th>\n",
       "      <th></th>\n",
       "      <th></th>\n",
       "      <th></th>\n",
       "      <th></th>\n",
       "      <th></th>\n",
       "      <th></th>\n",
       "    </tr>\n",
       "  </thead>\n",
       "  <tbody>\n",
       "    <tr>\n",
       "      <th>2019-01-01</th>\n",
       "      <td>1.671333</td>\n",
       "      <td>2.045802</td>\n",
       "      <td>2.067055</td>\n",
       "      <td>2.177979</td>\n",
       "      <td>2.137462</td>\n",
       "      <td>2.000000</td>\n",
       "      <td>2.025602</td>\n",
       "    </tr>\n",
       "    <tr>\n",
       "      <th>2019-02-01</th>\n",
       "      <td>1.256881</td>\n",
       "      <td>1.456522</td>\n",
       "      <td>1.359833</td>\n",
       "      <td>1.361538</td>\n",
       "      <td>1.362832</td>\n",
       "      <td>1.384921</td>\n",
       "      <td>NaN</td>\n",
       "    </tr>\n",
       "    <tr>\n",
       "      <th>2019-03-01</th>\n",
       "      <td>1.175601</td>\n",
       "      <td>1.246032</td>\n",
       "      <td>1.297710</td>\n",
       "      <td>1.330769</td>\n",
       "      <td>1.288136</td>\n",
       "      <td>NaN</td>\n",
       "      <td>NaN</td>\n",
       "    </tr>\n",
       "    <tr>\n",
       "      <th>2019-04-01</th>\n",
       "      <td>1.149425</td>\n",
       "      <td>1.310680</td>\n",
       "      <td>1.219780</td>\n",
       "      <td>1.320388</td>\n",
       "      <td>NaN</td>\n",
       "      <td>NaN</td>\n",
       "      <td>NaN</td>\n",
       "    </tr>\n",
       "    <tr>\n",
       "      <th>2019-05-01</th>\n",
       "      <td>1.085366</td>\n",
       "      <td>1.145455</td>\n",
       "      <td>1.166667</td>\n",
       "      <td>NaN</td>\n",
       "      <td>NaN</td>\n",
       "      <td>NaN</td>\n",
       "      <td>NaN</td>\n",
       "    </tr>\n",
       "    <tr>\n",
       "      <th>2019-06-01</th>\n",
       "      <td>1.116183</td>\n",
       "      <td>1.170732</td>\n",
       "      <td>NaN</td>\n",
       "      <td>NaN</td>\n",
       "      <td>NaN</td>\n",
       "      <td>NaN</td>\n",
       "      <td>NaN</td>\n",
       "    </tr>\n",
       "    <tr>\n",
       "      <th>2019-07-01</th>\n",
       "      <td>1.072917</td>\n",
       "      <td>NaN</td>\n",
       "      <td>NaN</td>\n",
       "      <td>NaN</td>\n",
       "      <td>NaN</td>\n",
       "      <td>NaN</td>\n",
       "      <td>NaN</td>\n",
       "    </tr>\n",
       "  </tbody>\n",
       "</table>\n",
       "</div>"
      ],
      "text/plain": [
       "cohort_lifetime              0         1         2         3         4  \\\n",
       "first_purchase_month                                                     \n",
       "2019-01-01            1.671333  2.045802  2.067055  2.177979  2.137462   \n",
       "2019-02-01            1.256881  1.456522  1.359833  1.361538  1.362832   \n",
       "2019-03-01            1.175601  1.246032  1.297710  1.330769  1.288136   \n",
       "2019-04-01            1.149425  1.310680  1.219780  1.320388       NaN   \n",
       "2019-05-01            1.085366  1.145455  1.166667       NaN       NaN   \n",
       "2019-06-01            1.116183  1.170732       NaN       NaN       NaN   \n",
       "2019-07-01            1.072917       NaN       NaN       NaN       NaN   \n",
       "\n",
       "cohort_lifetime              5         6  \n",
       "first_purchase_month                      \n",
       "2019-01-01            2.000000  2.025602  \n",
       "2019-02-01            1.384921       NaN  \n",
       "2019-03-01                 NaN       NaN  \n",
       "2019-04-01                 NaN       NaN  \n",
       "2019-05-01                 NaN       NaN  \n",
       "2019-06-01                 NaN       NaN  \n",
       "2019-07-01                 NaN       NaN  "
      ]
     },
     "execution_count": 16,
     "metadata": {},
     "output_type": "execute_result"
    }
   ],
   "source": [
    "lifetime_pivot  = purchases_grouped_by_cohorts.pivot_table(index = 'first_purchase_month', columns = 'cohort_lifetime', values = 'purchases_per_player', aggfunc = 'mean')\n",
    "lifetime_pivot"
   ]
  },
  {
   "cell_type": "markdown",
   "id": "27d1cbb1",
   "metadata": {},
   "source": [
    "**Вывод:** построили таблицу с когортным анализом среднего числа покупок игрока с разбивкой по времени жизни. Во всех когортах на первый месяц по сравнению с нулевым среднее количество покупок возрастает. Это говорит, что игроки активнее всего покупают не сразу, а по истечении некоторого времени, например, когда разберутся с устройством игрового мира.   \n",
    "\n",
    "Также есть когорты, в которых у игроков среднее количество покупок растёт с течением времени. Например, у апрельской когорты.    "
   ]
  },
  {
   "cell_type": "markdown",
   "id": "059c359e",
   "metadata": {},
   "source": [
    "## Тепловая карта"
   ]
  },
  {
   "cell_type": "code",
   "execution_count": 13,
   "id": "7e79c810",
   "metadata": {},
   "outputs": [
    {
     "data": {
      "image/png": "[encoded data removed]",
      "text/plain": [
       "<Figure size 432x288 with 2 Axes>"
      ]
     },
     "metadata": {
      "needs_background": "light"
     },
     "output_type": "display_data"
    },
    {
     "data": {
      "text/plain": [
       "<Figure size 936x648 with 0 Axes>"
      ]
     },
     "metadata": {},
     "output_type": "display_data"
    }
   ],
   "source": [
    "sns.heatmap(lifetime_pivot, annot = True, fmt='.2f', linewidths=1, linecolor = 'black')\n",
    "plt.title('Срейднее количество покупок')\n",
    "plt.figure(figsize=(13, 9))\n",
    "plt.show()"
   ]
  },
  {
   "cell_type": "markdown",
   "id": "6480b114",
   "metadata": {},
   "source": [
    "**Вывод:** Сильнее всех выделяется январь 2019 года. Средноличесво покупок в этой кагорте значительно вышем, чем в остальных. Возможно рождественские акции простимулировали клиентов."
   ]
  }
 ],
 "metadata": {
  "kernelspec": {
   "display_name": "Python 3",
   "language": "python",
   "name": "python3"
  },
  "language_info": {
   "codemirror_mode": {
    "name": "ipython",
    "version": 3
   },
   "file_extension": ".py",
   "mimetype": "text/x-python",
   "name": "python",
   "nbconvert_exporter": "python",
   "pygments_lexer": "ipython3",
   "version": "3.8.8"
  },
  "toc": {
   "base_numbering": 1,
   "nav_menu": {},
   "number_sections": true,
   "sideBar": true,
   "skip_h1_title": false,
   "title_cell": "Table of Contents",
   "title_sidebar": "Contents",
   "toc_cell": false,
   "toc_position": {},
   "toc_section_display": true,
   "toc_window_display": false
  }
 },
 "nbformat": 4,
 "nbformat_minor": 5
}
